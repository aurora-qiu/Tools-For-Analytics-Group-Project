{
 "cells": [
  {
   "cell_type": "code",
   "execution_count": 8,
   "metadata": {},
   "outputs": [
    {
     "name": "stderr",
     "output_type": "stream",
     "text": [
      "/Users/yujiaqi/.pyenv/versions/3.9.2/lib/python3.9/site-packages/IPython/core/interactiveshell.py:3457: DtypeWarning: Columns (20,31,32) have mixed types.Specify dtype option on import or set low_memory=False.\n",
      "  exec(code_obj, self.user_global_ns, self.user_ns)\n"
     ]
    }
   ],
   "source": [
    "import pandas as pd\n",
    "df = pd.read_csv(\"311_Service_Requests_2020.csv\")"
   ]
  },
  {
   "cell_type": "code",
   "execution_count": 10,
   "metadata": {},
   "outputs": [],
   "source": [
    "zip = df[df[\"Incident Zip\"] == 10027]\n",
    "top10_list = zip[\"Complaint Type\"].value_counts(ascending = False)[:10].index\n",
    "all_type = df[\"Complaint Type\"].value_counts()\n",
    "top10 = all_type[top10_list]"
   ]
  },
  {
   "cell_type": "code",
   "execution_count": 11,
   "metadata": {},
   "outputs": [
    {
     "data": {
      "text/plain": [
       "Noise - Residential            406050\n",
       "Noise - Street/Sidewalk        206541\n",
       "HEAT/HOT WATER                 164071\n",
       "Illegal Parking                193721\n",
       "Non-Emergency Police Matter     83914\n",
       "Illegal Fireworks               49402\n",
       "Noise - Vehicle                 81074\n",
       "UNSANITARY CONDITION            61964\n",
       "PLUMBING                        37047\n",
       "Noise                           44912\n",
       "Name: Complaint Type, dtype: int64"
      ]
     },
     "execution_count": 11,
     "metadata": {},
     "output_type": "execute_result"
    }
   ],
   "source": [
    "top10"
   ]
  }
 ],
 "metadata": {
  "interpreter": {
   "hash": "874044f53e16e5c53a74248ef1469e44b0f6c4627b40ea1b0436c8bb91632280"
  },
  "kernelspec": {
   "display_name": "Python 3.9.2 64-bit ('3.9.2': pyenv)",
   "language": "python",
   "name": "python3"
  },
  "language_info": {
   "codemirror_mode": {
    "name": "ipython",
    "version": 3
   },
   "file_extension": ".py",
   "mimetype": "text/x-python",
   "name": "python",
   "nbconvert_exporter": "python",
   "pygments_lexer": "ipython3",
   "version": "3.9.2"
  },
  "orig_nbformat": 4
 },
 "nbformat": 4,
 "nbformat_minor": 2
}
